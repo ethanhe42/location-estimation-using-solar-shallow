{
 "cells": [
  {
   "cell_type": "code",
   "execution_count": 10,
   "metadata": {
    "collapsed": false
   },
   "outputs": [],
   "source": [
    "from math import *\n",
    "import numpy as np\n",
    "import matplotlib as mpl\n",
    "import matplotlib.pyplot as plt\n",
    "import pandas as pd\n",
    "from datetime import timedelta,datetime\n",
    "import time\n",
    "import scipy.optimize as optimize\n",
    "pi=np.pi"
   ]
  },
  {
   "cell_type": "code",
   "execution_count": 2,
   "metadata": {
    "collapsed": true
   },
   "outputs": [],
   "source": [
    "myfont = mpl.font_manager.FontProperties(fname='C:/Windows/Fonts/msyh.ttc')  \n",
    "mpl.rcParams['axes.unicode_minus'] = False  "
   ]
  },
  {
   "cell_type": "code",
   "execution_count": 5,
   "metadata": {
    "collapsed": true
   },
   "outputs": [],
   "source": [
    "def ang(degree,minute=0,second=0):\n",
    "    return (degree+minute/60.0+minute/3600.0)*pi/180.0"
   ]
  },
  {
   "cell_type": "code",
   "execution_count": 6,
   "metadata": {
    "collapsed": true
   },
   "outputs": [],
   "source": [
    "def rad(radian):\n",
    "    return radian/pi*180.0"
   ]
  },
  {
   "cell_type": "code",
   "execution_count": 39,
   "metadata": {
    "collapsed": true
   },
   "outputs": [],
   "source": [
    "def cal(beijingTime):\n",
    "    d=294.0\n",
    "    longitude=(116.0+23.0/60.0+29.0/3600.0)\n",
    "    dafai=ang(39,54,26)\n",
    "\n",
    "    LT=beijingTime+rad(ang(longitude-120))*4/60.0\n",
    "    GMT=ang(longitude)*180/pi*4/60\n",
    "    B=ang(360.0*(d-81.0)/365.0)\n",
    "    LSTM=15.0*GMT\n",
    "    EOT=9.87*sin(2*B)-7.53*cos(B)-1.5*sin(B)\n",
    "    TC=(4.0*(LSTM-longitude)+EOT)/60\n",
    "    LST=LT+TC\n",
    "    HRA=ang(15*(LST-12))\n",
    "    \n",
    "    fai=ang(23.45*sin(2*pi/365.0*(284+d)))\n",
    "    \n",
    "    e=np.arcsin(sin(fai)*sin(dafai)+cos(fai)*cos(dafai)*np.cos(HRA))\n",
    "    H=3.0\n",
    "    L=H/np.tan(e)\n",
    "# print \"GMT\",GMT\n",
    "# print \"LST\",LST\n",
    "# print \"TC\",TC\n",
    "# print \"EOT\",EOT\n",
    "#    print \"LSTM\",LSTM\n",
    "#    print \"longitude\",longitude\n",
    "    return L"
   ]
  },
  {
   "cell_type": "code",
   "execution_count": 21,
   "metadata": {
    "collapsed": true
   },
   "outputs": [],
   "source": [
    "T=np.arange(9.0,15.0,0.1)\n",
    "res=pd.Series(cal(T),index=T)\n",
    "plt.plot(T,cal(T),c=\"black\")\n",
    "plt.xlabel(u\"时间/小时\",fontproperties=myfont)\n",
    "plt.ylabel(u\"影子长度/米\",fontproperties=myfont)\n",
    "plt.title(u\"影子长度随时间变化曲线\",fontproperties=myfont)\n",
    "plt.show()"
   ]
  },
  {
   "cell_type": "markdown",
   "metadata": {},
   "source": [
    "#2"
   ]
  },
  {
   "cell_type": "code",
   "execution_count": 603,
   "metadata": {
    "collapsed": true
   },
   "outputs": [],
   "source": [
    "def getLong(beijingTime,L,dafai=ang(39,54,26),H=3.0):\n",
    "    d=107.0\n",
    "    #d=126.96\n",
    "    B=ang(360.0*(d-81.0)/365.0)\n",
    "    EOT=9.87*np.sin(2*B)-7.53*np.cos(B)-1.5*np.sin(B)\n",
    "    fai=ang(23.45*np.sin(2*pi/365.0*(284+d)))\n",
    "    \n",
    "    outrange=(np.sin(np.arctan(H/L))-np.sin(fai)*np.sin(dafai))/(np.cos(fai)*np.cos(dafai))\n",
    "    return rad(np.arccos(outrange))-(beijingTime*15+EOT/4-300.0)"
   ]
  },
  {
   "cell_type": "code",
   "execution_count": null,
   "metadata": {
    "collapsed": true
   },
   "outputs": [],
   "source": [
    "def NgetLong(beijingTime,x,y,dafai=ang(39,54,26)):\n",
    "    d=107.0\n",
    "    B=ang(360.0*(d-81.0)/365.0)\n",
    "    EOT=9.87*np.sin(2*B)-7.53*np.cos(B)-1.5*np.sin(B)\n",
    "    fai=ang(23.45*np.sin(2*pi/365.0*(284+d)))\n",
    "    outrange=(np.sin(np.arctan(H/L))-np.sin(fai)*np.sin(dafai))/(np.cos(fai)*np.cos(dafai))\n",
    "    return rad(np.arccos(outrange))-(beijingTime*15+EOT/4-300.0)"
   ]
  },
  {
   "cell_type": "code",
   "execution_count": 419,
   "metadata": {
    "collapsed": true
   },
   "outputs": [
    {
     "data": {
      "text/plain": [
       "[[-90, nan],\n",
       " [-89, nan],\n",
       " [-88, 88.218260080762519],\n",
       " [-87, nan],\n",
       " [-86, nan],\n",
       " [-85, 238.12283898660829],\n",
       " [-84, nan],\n",
       " [-83, nan],\n",
       " [-82, nan],\n",
       " [-81, nan],\n",
       " [-80, nan],\n",
       " [-79, 238.58608886559745],\n",
       " [-78, nan],\n",
       " [-77, nan],\n",
       " [-76, nan],\n",
       " [-75, 99.952067892024871],\n",
       " [-74, nan],\n",
       " [-73, nan],\n",
       " [-72, nan],\n",
       " [-71, nan],\n",
       " [-70, nan],\n",
       " [-69, 97.42142435644972],\n",
       " [-68, nan],\n",
       " [-67, nan],\n",
       " [-66, 243.90154037730437],\n",
       " [-65, nan],\n",
       " [-64, nan],\n",
       " [-63, nan],\n",
       " [-62, nan],\n",
       " [-61, nan],\n",
       " [-60, 236.68881513246066],\n",
       " [-59, nan],\n",
       " [-58, nan],\n",
       " [-57, nan],\n",
       " [-56, 95.014184370614487],\n",
       " [-55, nan],\n",
       " [-54, 245.41912529672805],\n",
       " [-53, nan],\n",
       " [-52, nan],\n",
       " [-51, nan],\n",
       " [-50, 100.38629799950016],\n",
       " [-49, nan],\n",
       " [-48, nan],\n",
       " [-47, nan],\n",
       " [-46, nan],\n",
       " [-45, nan],\n",
       " [-44, 90.03082548251291],\n",
       " [-43, nan],\n",
       " [-42, nan],\n",
       " [-41, 238.53332634630351],\n",
       " [-40, nan],\n",
       " [-39, nan],\n",
       " [-38, nan],\n",
       " [-37, nan],\n",
       " [-36, nan],\n",
       " [-35, 238.13179410940265],\n",
       " [-34, nan],\n",
       " [-33, nan],\n",
       " [-32, nan],\n",
       " [-31, 99.664544271778425],\n",
       " [-30, nan],\n",
       " [-29, nan],\n",
       " [-28, nan],\n",
       " [-27, nan],\n",
       " [-26, nan],\n",
       " [-25, 97.985810573297798],\n",
       " [-24, nan],\n",
       " [-23, nan],\n",
       " [-22, 245.07458054302327],\n",
       " [-21, nan],\n",
       " [-20, nan],\n",
       " [-19, nan],\n",
       " [-18, nan],\n",
       " [-17, nan],\n",
       " [-16, 236.72059933612957],\n",
       " [-15, nan],\n",
       " [-14, nan],\n",
       " [-13, nan],\n",
       " [-12, 93.897983705696049],\n",
       " [-11, nan],\n",
       " [-10, 243.97771584466355],\n",
       " [-9, nan],\n",
       " [-8, nan],\n",
       " [-7, nan],\n",
       " [-6, 100.49084216001197],\n",
       " [-5, nan],\n",
       " [-4, nan],\n",
       " [-3, nan],\n",
       " [-2, nan],\n",
       " [-1, nan],\n",
       " [0, 91.516226033971151],\n",
       " [1, nan],\n",
       " [2, nan],\n",
       " [3, 239.00220135136718],\n",
       " [4, nan],\n",
       " [5, nan],\n",
       " [6, nan],\n",
       " [7, nan],\n",
       " [8, nan],\n",
       " [9, 237.74811272468034],\n",
       " [10, nan],\n",
       " [11, nan],\n",
       " [12, nan],\n",
       " [13, 99.314076565759692],\n",
       " [14, nan],\n",
       " [15, nan],\n",
       " [16, nan],\n",
       " [17, nan],\n",
       " [18, nan],\n",
       " [19, 98.485332053205951],\n",
       " [20, nan],\n",
       " [21, nan],\n",
       " [22, 246.43927547748737],\n",
       " [23, nan],\n",
       " [24, nan],\n",
       " [25, nan],\n",
       " [26, nan],\n",
       " [27, nan],\n",
       " [28, 236.80095305307486],\n",
       " [29, nan],\n",
       " [30, nan],\n",
       " [31, nan],\n",
       " [32, 92.580506550191018],\n",
       " [33, nan],\n",
       " [34, 242.76738418920374],\n",
       " [35, nan],\n",
       " [36, nan],\n",
       " [37, nan],\n",
       " [38, 100.54695900915458],\n",
       " [39, nan],\n",
       " [40, nan],\n",
       " [41, nan],\n",
       " [42, nan],\n",
       " [43, nan],\n",
       " [44, 92.778282611308626],\n",
       " [45, nan],\n",
       " [46, nan],\n",
       " [47, 239.53350963363189],\n",
       " [48, nan],\n",
       " [49, nan],\n",
       " [50, nan],\n",
       " [51, nan],\n",
       " [52, nan],\n",
       " [53, 237.42965611278927],\n",
       " [54, nan],\n",
       " [55, nan],\n",
       " [56, nan],\n",
       " [57, 98.895838972003233],\n",
       " [58, nan],\n",
       " [59, nan],\n",
       " [60, nan],\n",
       " [61, nan],\n",
       " [62, nan],\n",
       " [63, 98.924568232398613],\n",
       " [64, nan],\n",
       " [65, nan],\n",
       " [66, 248.0702593650858],\n",
       " [67, nan],\n",
       " [68, nan],\n",
       " [69, nan],\n",
       " [70, nan],\n",
       " [71, nan],\n",
       " [72, 236.92969059218498],\n",
       " [73, nan],\n",
       " [74, nan],\n",
       " [75, nan],\n",
       " [76, 90.99283255864799],\n",
       " [77, nan],\n",
       " [78, 241.73497237997208],\n",
       " [79, nan],\n",
       " [80, nan],\n",
       " [81, nan],\n",
       " [82, 100.55426502089928],\n",
       " [83, nan],\n",
       " [84, nan],\n",
       " [85, nan],\n",
       " [86, nan],\n",
       " [87, nan],\n",
       " [88, 93.872881704960946],\n",
       " [89, nan]]"
      ]
     },
     "execution_count": 419,
     "metadata": {},
     "output_type": "execute_result"
    }
   ],
   "source": [
    "ans=[]\n",
    "for i in range(-90,90):\n",
    "    ans.append([i,getLong(Time[0],L[0],i)])\n",
    "ans"
   ]
  },
  {
   "cell_type": "markdown",
   "metadata": {},
   "source": [
    "###2 time and L"
   ]
  },
  {
   "cell_type": "code",
   "execution_count": 3,
   "metadata": {
    "collapsed": true
   },
   "outputs": [
    {
     "data": {
      "text/plain": [
       "[14.7,\n",
       " 14.75,\n",
       " 14.8,\n",
       " 14.85,\n",
       " 14.9,\n",
       " 14.95,\n",
       " 15.0,\n",
       " 15.05,\n",
       " 15.1,\n",
       " 15.15,\n",
       " 15.2,\n",
       " 15.25,\n",
       " 15.3,\n",
       " 15.35,\n",
       " 15.4,\n",
       " 15.45,\n",
       " 15.5,\n",
       " 15.55,\n",
       " 15.6,\n",
       " 15.65,\n",
       " 15.7]"
      ]
     },
     "execution_count": 3,
     "metadata": {},
     "output_type": "execute_result"
    }
   ],
   "source": [
    "excel=pd.read_excel(\"data.xlsx\")\n",
    "L=np.sqrt(excel.x**2+excel.y**2).tolist()\n",
    "Time=[]\n",
    "for i in excel.time:\n",
    "    Time.append(i.hour+i.minute/60.0)\n",
    "Time"
   ]
  },
  {
   "cell_type": "markdown",
   "metadata": {},
   "source": [
    "### test time and L"
   ]
  },
  {
   "cell_type": "code",
   "execution_count": 324,
   "metadata": {
    "collapsed": true
   },
   "outputs": [],
   "source": [
    "Time=[8,8.16667,9.333,9.5,9.8333]\n",
    "L=[26.3,24.3,14.41,13.38,11.53]"
   ]
  },
  {
   "cell_type": "code",
   "execution_count": 615,
   "metadata": {
    "collapsed": true
   },
   "outputs": [],
   "source": [
    "plt.plot(excel.x,excel.y)\n",
    "plt.xlim([0,2])\n",
    "plt.ylim([0,0.62])\n",
    "\n",
    "plt.show()"
   ]
  },
  {
   "cell_type": "code",
   "execution_count": 157,
   "metadata": {
    "collapsed": true
   },
   "outputs": [
    {
     "data": {
      "text/plain": [
       "array([-1.57079633, -1.569051  , -1.56730567, ...,  1.56556034,\n",
       "        1.56730567,  1.569051  ])"
      ]
     },
     "execution_count": 157,
     "metadata": {},
     "output_type": "execute_result"
    }
   ],
   "source": [
    "latitude=ang(np.arange(-90,90,0.1))\n",
    "latitude"
   ]
  },
  {
   "cell_type": "code",
   "execution_count": 148,
   "metadata": {
    "collapsed": true
   },
   "outputs": [],
   "source": [
    "def plot(i,j):\n",
    "    longitude=getLong(Time[i],L[i],latitude,j)\n",
    "    plt.scatter(longitude,rad(latitude))"
   ]
  },
  {
   "cell_type": "code",
   "execution_count": 210,
   "metadata": {
    "collapsed": false
   },
   "outputs": [],
   "source": [
    "for i in range(len(Time)):\n",
    "#    for j in np.arange(0.5,5,0.1):\n",
    "        plot(i,3)\n",
    "plt.show()"
   ]
  },
  {
   "cell_type": "code",
   "execution_count": 325,
   "metadata": {
    "collapsed": true
   },
   "outputs": [],
   "source": [
    "ii=0\n",
    "jj=0\n",
    "kk=3.0"
   ]
  },
  {
   "cell_type": "code",
   "execution_count": 332,
   "metadata": {
    "collapsed": true
   },
   "outputs": [],
   "source": [
    "def f(x):\n",
    "    global ii,jj,kk\n",
    "    return getLong(Time[ii],L[ii],x,kk)-getLong(Time[jj],L[jj],x,kk)"
   ]
  },
  {
   "cell_type": "code",
   "execution_count": 216,
   "metadata": {
    "collapsed": false
   },
   "outputs": [
    {
     "data": {
      "text/plain": [
       "array([-5.85906016])"
      ]
     },
     "execution_count": 216,
     "metadata": {},
     "output_type": "execute_result"
    }
   ],
   "source": [
    "from scipy import optimize"
   ]
  },
  {
   "cell_type": "code",
   "execution_count": 336,
   "metadata": {
    "collapsed": false
   },
   "outputs": [
    {
     "data": {
      "text/plain": [
       "[28.342164568830945, 28.342164568830945, 21.999999999999975]"
      ]
     },
     "execution_count": 336,
     "metadata": {},
     "output_type": "execute_result"
    }
   ],
   "source": [
    "stdmin=1\n",
    "A=[]\n",
    "init=[-5.86390081,25.05403324]\n",
    "#init=[32,32]\n",
    "for kkk in np.arange(1,4,0.1):\n",
    "    kk=kkk\n",
    "    ans=[]\n",
    "    for iii in range(len(Time)):\n",
    "        for jjj in range(iii+1,len(Time)):\n",
    "            ii=iii\n",
    "            jj=jjj\n",
    "            ans.append([optimize.fsolve(f,init[0])[0],optimize.fsolve(f,init[1])[0]])\n",
    "    ans=np.array(ans).T\n",
    "    init[0]=ans[0].mean()\n",
    "    init[1]=ans[1].mean()\n",
    "    std=min(ans[0].std(),ans[1].std())\n",
    "    \n",
    "    if std<stdmin:\n",
    "        stdmin=std\n",
    "        A=[init[0],init[1],kk]\n",
    "A"
   ]
  },
  {
   "cell_type": "markdown",
   "metadata": {},
   "source": [
    "# new2"
   ]
  },
  {
   "cell_type": "code",
   "execution_count": null,
   "metadata": {
    "collapsed": true
   },
   "outputs": [],
   "source": [
    "fai=ang(23.45*sin(2*pi/365.0*(284+d)))\n",
    "dafai=ang(39,54,26)\n",
    "\n",
    "LT=beijingTime+rad(ang(longitude-120))*4/60.0\n",
    "GMT=ang(longitude)*180/pi*4/60\n",
    "B=ang(360.0*(d-81.0)/365.0)\n",
    "LSTM=15.0*GMT\n",
    "EOT=9.87*sin(2*B)-7.53*cos(B)-1.5*sin(B)\n",
    "TC=(4.0*(LSTM-longitude)+EOT)/60\n",
    "LST=LT+TC\n",
    "HRA=ang(15*(LST-12))\n",
    "\n",
    "h=np.arcsin(sin(fai)*sin(dafai)+cos(fai)*cos(dafai)*np.cos(HRA))\n",
    "\n",
    "sin(A)=cos(fai)*sin(HRA)/cos(h)\n",
    "\n",
    "tan(A)=y/x"
   ]
  },
  {
   "cell_type": "markdown",
   "metadata": {},
   "source": [
    "input longitude get latitude"
   ]
  },
  {
   "cell_type": "code",
   "execution_count": 280,
   "metadata": {
    "collapsed": true
   },
   "outputs": [],
   "source": [
    "def g(longitude):\n",
    "    \n",
    "    global x,y,beijingTime\n",
    "    \n",
    "    d=107.0\n",
    "    A=np.arctan(y/x)\n",
    "    fai=ang(23.45*sin(2*pi/365.0*(284+d)))\n",
    "\n",
    "    LT=beijingTime+(longitude-120)*4/60.0\n",
    "    GMT=ang(longitude)*180/pi*4/60\n",
    "    B=ang(360.0*(d-81.0)/365.0)\n",
    "    LSTM=15.0*GMT\n",
    "    EOT=9.87*sin(2*B)-7.53*cos(B)-1.5*sin(B)\n",
    "    TC=(4.0*(LSTM-longitude)+EOT)/60\n",
    "    LST=LT+TC\n",
    "    HRA=ang(15*(LST-12))\n",
    "    \n",
    "    h=np.arccos(cos(fai)*np.sin(HRA)/np.sin(A))\n",
    "\n",
    "    L=np.sqrt(x**2+y**2)\n",
    "    H=L*np.tan(h)\n",
    "    \n",
    "    a=sin(fai)\n",
    "    b=cos(fai)*np.cos(HRA)\n",
    "    dafai=np.arcsin(np.sin(h)/np.sqrt(a**2+b**2))-np.arctan(b/a)\n",
    "    \n",
    "    return rad(dafai)\n",
    "\n",
    "    "
   ]
  },
  {
   "cell_type": "code",
   "execution_count": 319,
   "metadata": {
    "collapsed": true
   },
   "outputs": [],
   "source": [
    "def h(H):\n",
    "    \n",
    "    global x,y,beijingTime\n",
    "    \n",
    "    d=107.0\n",
    "    A=np.arctan(y/x)\n",
    "    L=np.sqrt(x**2+y**2)\n",
    "    fai=ang(23.45*sin(2*pi/365.0*(284+d)))\n",
    "    h=np.arctan(H/L)\n",
    "    HRA=np.arcsin(np.cos(h)*np.sin(A)/cos(fai))\n",
    "    \n",
    "    a=sin(fai)\n",
    "    b=cos(fai)*np.cos(HRA)\n",
    "    dafai=np.arcsin(np.sin(h)/np.sqrt(a**2+b**2))-np.arctan(b/a)\n",
    "    \n",
    "    B=ang(360.0*(d-81.0)/365.0)\n",
    "    EOT=9.87*sin(2*B)-7.53*cos(B)-1.5*sin(B)\n",
    "    TC=EOT/60\n",
    "    LST=rad(HRA)/15.0+12\n",
    "    LT=LST-TC\n",
    "    \n",
    "    longitude=(LT-beijingTime)*60.0/4.0+120\n",
    "    \n",
    "    return [longitude,rad(dafai)]"
   ]
  },
  {
   "cell_type": "code",
   "execution_count": 320,
   "metadata": {
    "collapsed": false
   },
   "outputs": [
    {
     "data": {
      "text/plain": [
       "[77.062324664134934, -30.639377228537864]"
      ]
     },
     "execution_count": 320,
     "metadata": {},
     "output_type": "execute_result"
    }
   ],
   "source": [
    "h(2.1)"
   ]
  },
  {
   "cell_type": "code",
   "execution_count": 269,
   "metadata": {
    "collapsed": true
   },
   "outputs": [],
   "source": [
    "x=np.array(excel.x)[0]\n",
    "y=np.array(excel.y)[0]\n",
    "beijingTime=np.array(Time)[0]"
   ]
  },
  {
   "cell_type": "code",
   "execution_count": null,
   "metadata": {
    "collapsed": true
   },
   "outputs": [],
   "source": [
    "L=np.sqrt(x[0]**2+[0]**2)\n",
    "H=L*np.tan(e)"
   ]
  },
  {
   "cell_type": "code",
   "execution_count": 321,
   "metadata": {
    "collapsed": false
   },
   "outputs": [],
   "source": [
    "for i in range(len(Time)):\n",
    "    x=np.array(excel.x)[i]\n",
    "    y=np.array(excel.y)[i]\n",
    "    beijingTime=np.array(Time)[i]\n",
    "    ans=[]\n",
    "    \n",
    "    ans.append(h(2.1))\n",
    "    plt.scatter(h(2.1)[0],h(2.1)[1])\n",
    "    \n",
    "plt.show()"
   ]
  },
  {
   "cell_type": "markdown",
   "metadata": {},
   "source": [
    "#nnn2"
   ]
  },
  {
   "cell_type": "code",
   "execution_count": null,
   "metadata": {
    "collapsed": true
   },
   "outputs": [],
   "source": [
    "dafaiDH=L*(sin(fai)*cos(dafai)-cos(fai)*cos(HRA)*sin(dafai))/sin(h)**3\n",
    "longitudeDH=-S*cos(dafai)*cos(fai)*sin(HRA)/sin(h)**3"
   ]
  },
  {
   "cell_type": "markdown",
   "metadata": {},
   "source": [
    "# sundail"
   ]
  },
  {
   "cell_type": "code",
   "execution_count": 409,
   "metadata": {
    "collapsed": false
   },
   "outputs": [],
   "source": [
    "def sundial(longitude,i):\n",
    "    M=0.5\n",
    "    d=107\n",
    "    beijingTime=Time[i]\n",
    "    x=excel.x[i]\n",
    "    y=excel.y[i]\n",
    "    fai=ang(23.45*sin(2*pi/365.0*(284+d)))\n",
    "    \n",
    "    LT=beijingTime+(longitude-120)*4/60.0\n",
    "    B=ang(360.0*(d-81.0)/365.0)\n",
    "    EOT=9.87*sin(2*B)-7.53*cos(B)-1.5*sin(B)\n",
    "    TC=EOT/60\n",
    "    LST=LT+TC\n",
    "    HRA=ang(15*(LST-12))\n",
    "    \n",
    "    X=M*sin(HRA)\n",
    "    \n",
    "    A=atan(y/x)\n",
    "    \n",
    "    a=cos(HRA)\n",
    "    b=-tan(fai)\n",
    "    out=sin(HRA)*tan(A)/sqrt(a**2+b**2)\n",
    "    if out<-1 or out >1:\n",
    "        dafaiA=\"error\"\n",
    "    else:\n",
    "        dafai=asin(out)-atan(b/a)\n",
    "        dafaiA=rad(dafai)\n",
    "        if dafaiA>90:\n",
    "            dafaiA-=180\n",
    "        elif dafaiA<-90:\n",
    "            dafaiA+=180\n",
    "#         if dafaiB>90 or dafaiB<-90:\n",
    "#             dafaiB=\"error\"\n",
    "    \n",
    "    h=np.arccos(np.sin(HRA)*cos(fai)/np.sin(A))\n",
    "    \n",
    "    a=sin(fai)\n",
    "    b=cos(fai)*np.cos(HRA)\n",
    "    \n",
    "    out=np.sin(h)/np.sqrt(a**2+b**2)\n",
    "    if out<-1 or out >1:\n",
    "        dafaiB=\"error\"\n",
    "    else:\n",
    "        dafaiB=rad(asin(out)-atan(b/a))\n",
    "#         if dafaiB>90 or dafaiB<-90:\n",
    "#             dafaiB=\"error\"\n",
    "        if dafaiB>90:\n",
    "            dafaiB-=180\n",
    "        elif dafaiB<-90:\n",
    "            dafaiB+=180\n",
    "    #print dafaiA,dafai\n",
    "    \n",
    "    return dafaiA,dafaiB\n"
   ]
  },
  {
   "cell_type": "code",
   "execution_count": 372,
   "metadata": {
    "collapsed": false,
    "scrolled": false
   },
   "outputs": [
    {
     "name": "stdout",
     "output_type": "stream",
     "text": [
      "0.426787941128 nan\n"
     ]
    }
   ],
   "source": [
    "latitude=sundial(i,k)"
   ]
  },
  {
   "cell_type": "code",
   "execution_count": 413,
   "metadata": {
    "collapsed": false
   },
   "outputs": [],
   "source": [
    "ans=[]\n",
    "latitude=0\n",
    "for k in range(len(Time)):\n",
    "    for i in np.arange(-180,180,2):\n",
    "        A,B=sundial(i,k)\n",
    "        if A!=\"error\":\n",
    "            plt.scatter(i,A,c=\"r\")\n",
    "        if B!=\"error\":\n",
    "            plt.scatter(i,B,c=\"b\")            \n",
    "        if A==\"error\" or B==\"error\":\n",
    "            continue\n",
    "        if np.abs(A-B)<100:\n",
    "            ans.append([i,(A+B)/2.0])\n",
    "plt.show()\n",
    "ans=np.array(ans).T"
   ]
  },
  {
   "cell_type": "code",
   "execution_count": 399,
   "metadata": {
    "collapsed": true
   },
   "outputs": [],
   "source": [
    "plt.scatter(ans[0],ans[1])\n",
    "plt.show()"
   ]
  },
  {
   "cell_type": "markdown",
   "metadata": {},
   "source": [
    "#XY"
   ]
  },
  {
   "cell_type": "code",
   "execution_count": 571,
   "metadata": {
    "collapsed": false
   },
   "outputs": [],
   "source": [
    "def XY(theta,H,l,da):\n",
    "    theta=ang(theta)\n",
    "    d=107.0\n",
    "    longitude=l\n",
    "    dafai=ang(da)\n",
    "    fai=ang(23.45*sin(2*pi/365.0*(284+d)))\n",
    "    ans=0\n",
    "    \n",
    "    \n",
    "    beijingTime=np.array(Time)\n",
    "    LT=beijingTime+(longitude-120)*4/60.0\n",
    "    #GMT=ang(longitude)*180/pi*4/60\n",
    "    B=ang(360.0*(d-81.0)/365.0)\n",
    "    #LSTM=15.0*GMT\n",
    "    EOT=9.87*sin(2*B)-7.53*cos(B)-1.5*sin(B)\n",
    "    TC=(EOT)/60 #4.0*(LSTM-longitude)+\n",
    "    LST=LT+TC\n",
    "    HRA=ang(15*(LST-12))\n",
    "\n",
    "    e=np.arcsin(sin(fai)*sin(dafai)+cos(fai)*cos(dafai)*np.cos(HRA))\n",
    "    L=H/np.tan(e)\n",
    "\n",
    "    #A=np.arcsin(cos(fai)*np.sin(HRA)/np.cos(e))\n",
    "    A=np.arccos((np.sin(fai)*np.cos(dafai)+np.cos(fai)*np.sin(dafai)*np.cos(HRA))/np.cos(e))\n",
    "    #A=atan(y/x)\n",
    "    x=np.abs(H/np.tan(e)/np.sqrt(1+np.power(np.tan(A),2)))\n",
    "    y=np.tan(A)*x\n",
    "    \n",
    "    mat=np.matrix([[np.cos(theta),np.sin(theta)],[-np.sin(theta),np.cos(theta)]])*np.matrix([x,y])\n",
    "    x=np.array(mat[0])[0]\n",
    "    y=np.array(mat[1])[0]\n",
    "    \n",
    "    x0=np.array(excel.x)\n",
    "    y0=np.array(excel.y)\n",
    "    ans=(np.sqrt(np.power((x0-x),2)+np.power(y0-y,2))).sum()\n",
    "    \n",
    "#     print \"beijing\",beijingTime\n",
    "#     print \"LST\",(LST)\n",
    "#     print \"HRA\",(HRA)\n",
    "#     print \"e\",rad(e)\n",
    "#     print \"L\",L\n",
    "#     print \"A\",rad(A)\n",
    "#     print \"AA\",rad(AA)\n",
    "#     print \"x\",x\n",
    "#     print \"y\",y\n",
    "#     print \"x0\",x0\n",
    "#     print \"y0\",y0\n",
    "    \n",
    "    return ans"
   ]
  },
  {
   "cell_type": "code",
   "execution_count": 569,
   "metadata": {
    "collapsed": true
   },
   "outputs": [
    {
     "name": "stdout",
     "output_type": "stream",
     "text": [
      "beijing [ 14.7   14.75  14.8   14.85  14.9   14.95  15.    15.05  15.1   15.15\n",
      "  15.2   15.25  15.3   15.35  15.4   15.45  15.5   15.55  15.6   15.65\n",
      "  15.7 ]\n",
      "LST [  9.37106748   9.42106748   9.47106748   9.52106748   9.57106748\n",
      "   9.62106748   9.67106748   9.72106748   9.77106748   9.82106748\n",
      "   9.87106748   9.92106748   9.97106748  10.02106748  10.07106748\n",
      "  10.12106748  10.17106748  10.22106748  10.27106748  10.32106748\n",
      "  10.37106748]\n",
      "HRA [-0.68825292 -0.67516295 -0.66207298 -0.64898302 -0.63589305 -0.62280308\n",
      " -0.60971311 -0.59662314 -0.58353317 -0.5704432  -0.55735323 -0.54426326\n",
      " -0.53117329 -0.51808332 -0.50499335 -0.49190338 -0.47881341 -0.46572344\n",
      " -0.45263347 -0.43954351 -0.42645354]\n",
      "e [ 51.28743602  52.02087456  52.75434891  53.48785528  54.22138974\n",
      "  54.95494821  55.68852642  56.42211988  57.1557239   57.88933352\n",
      "  58.62294348  59.35654818  60.09014168  60.82371758  61.557269\n",
      "  62.29078854  63.02426813  63.75769901  64.49107159  65.22437531\n",
      "  65.95759854]\n",
      "L [ 0.64120893  0.62455926  0.60823831  0.59223132  0.57652431  0.561104\n",
      "  0.54595778  0.53107366  0.51644022  0.50204662  0.48788248  0.47393795\n",
      "  0.46020358  0.44667039  0.43332976  0.42017347  0.40719363  0.39438271\n",
      "  0.38173346  0.36923897  0.35689258]\n",
      "A [-88.69151864 -88.82737634 -88.96496885 -89.1044312  -89.24590864\n",
      " -89.38955773 -89.53554752 -89.684061   -89.83529661 -89.98947002\n",
      " -89.85318378 -89.69240823 -89.52792251 -89.35941849 -89.18655717\n",
      " -89.00896468 -88.82622743 -88.63788665 -88.44343186 -88.24229325\n",
      " -88.03383266]\n",
      "AA [ 58.10776067  57.33775128  56.53193344  55.68737047  54.80076385\n",
      "  53.86839012  52.88602307  51.84883661  50.75128198  49.58693059\n",
      "  48.34826967  47.0264321   45.61083183  44.0886611   42.44417794\n",
      "  40.65766493  38.70384913  36.54939251  34.14867147  31.43613773\n",
      "  28.31105693]\n",
      "x [ -1.46422129e-02  -1.27814272e-02  -1.09870459e-02  -9.25656836e-03\n",
      "  -7.58763481e-03  -5.97801662e-03  -4.42560809e-03  -2.92841862e-03\n",
      "  -1.48456554e-03  -9.22675289e-05  -1.25016159e-03  -2.54431846e-03\n",
      "  -3.79171546e-03  -4.99378553e-03  -6.15188675e-03  -7.26730644e-03\n",
      "  -8.34126511e-03  -9.37492003e-03  -1.03693686e-02  -1.13256515e-02\n",
      "  -1.22447556e-02]\n",
      "y [ 0.64104173  0.62442846  0.60813907  0.59215898  0.57647438  0.56107216\n",
      "  0.54593984  0.53106558  0.51643809  0.50204661  0.48788088  0.47393112\n",
      "  0.46018796  0.44664248  0.43328609  0.42011062  0.40710819  0.39427127\n",
      "  0.3815926   0.36906523  0.35668246]\n",
      "x0 [ 1.0365  1.0699  1.1038  1.1383  1.1732  1.2087  1.2448  1.2815  1.3189\n",
      "  1.3568  1.3955  1.4349  1.4751  1.516   1.5577  1.6003  1.6438  1.6882\n",
      "  1.7337  1.7801  1.8277]\n",
      "y0 [ 0.4973  0.5029  0.5085  0.5142  0.5198  0.5255  0.5311  0.5368  0.5426\n",
      "  0.5483  0.5541  0.5598  0.5657  0.5715  0.5774  0.5833  0.5892  0.5952\n",
      "  0.6013  0.6074  0.6135]\n"
     ]
    },
    {
     "data": {
      "text/plain": [
       "29.857072574284057"
      ]
     },
     "execution_count": 569,
     "metadata": {},
     "output_type": "execute_result"
    }
   ],
   "source": [
    "XY(180, 0.80000000000000027, 40, 12)"
   ]
  },
  {
   "cell_type": "code",
   "execution_count": 575,
   "metadata": {
    "collapsed": true
   },
   "outputs": [],
   "source": [
    "ans=[]\n",
    "Min=2000\n",
    "MinXY=[]\n",
    "for theta in np.arange(-10,10,1):\n",
    "    for H in np.arange(0.3,3,0.7):\n",
    "        for l in np.arange(0,180,2):\n",
    "            for da in np.arange(0,90,2):\n",
    "                a=XY(theta,H,l,da)\n",
    "                if Min>a: \n",
    "                    Min=a\n",
    "                    MinXY=[theta,H,l,da]\n",
    "                #ans.append()\n",
    "    "
   ]
  },
  {
   "cell_type": "code",
   "execution_count": 554,
   "metadata": {
    "collapsed": false
   },
   "outputs": [],
   "source": [
    "plt.plot(the)\n",
    "plt.show()"
   ]
  },
  {
   "cell_type": "code",
   "execution_count": 576,
   "metadata": {
    "collapsed": false
   },
   "outputs": [
    {
     "data": {
      "text/plain": [
       "4.7716323691702991"
      ]
     },
     "execution_count": 576,
     "metadata": {},
     "output_type": "execute_result"
    }
   ],
   "source": [
    "Min"
   ]
  },
  {
   "cell_type": "code",
   "execution_count": 577,
   "metadata": {
    "collapsed": false
   },
   "outputs": [
    {
     "data": {
      "text/plain": [
       "[9, 0.29999999999999999, 40, 88]"
      ]
     },
     "execution_count": 577,
     "metadata": {},
     "output_type": "execute_result"
    }
   ],
   "source": [
    "MinXY"
   ]
  },
  {
   "cell_type": "code",
   "execution_count": 621,
   "metadata": {
    "collapsed": true
   },
   "outputs": [
    {
     "name": "stdout",
     "output_type": "stream",
     "text": [
      "beijingTime= 14.9 ;\n",
      "x= 1.1732 ;\n",
      "y= 0.5198 ;\n",
      "fai= 0.177126268838 ;\n",
      "HRA 0.585837430439\n",
      "A= 4.29531989637 ;\n",
      "L= 1.28319533977 ;\n"
     ]
    }
   ],
   "source": [
    "longitude=110\n",
    "i=4\n",
    "\n",
    "M=0.5\n",
    "d=107\n",
    "beijingTime=Time[i]\n",
    "print \"beijingTime=\",beijingTime,\";\"\n",
    "y=excel.y[i]\n",
    "x=excel.x[i]\n",
    "print \"x=\",x,\";\"\n",
    "print \"y=\",y,\";\"\n",
    "\n",
    "\n",
    "fai=ang(23.45*sin(2*pi/365.0*(284+d)))\n",
    "print \"fai=\",fai,\";\"\n",
    "\n",
    "LT=beijingTime+(longitude-120)*4/60.0\n",
    "B=ang(360.0*(d-81.0)/365.0)\n",
    "EOT=9.87*sin(2*B)-7.53*cos(B)-1.5*sin(B)\n",
    "TC=EOT/60\n",
    "LST=LT+TC\n",
    "HRA=ang(15*(LST-12))\n",
    "print \"HRA\",HRA\n",
    "\n",
    "X=M*sin(HRA)\n",
    "\n",
    "A=3*pi/2.0-atan(y/x)\n",
    "print \"A=\",A,\";\"\n",
    "\n",
    "b=-tan(fai)\n",
    "a=cos(HRA)\n",
    "\n",
    "out=sin(HRA)*tan(A)/sqrt(a**2+b**2)\n",
    "if out<-1 or out >1:\n",
    "    dafaiA=\"error\"\n",
    "else:\n",
    "    dafai=asin(out)-atan(b/a)\n",
    "    dafaiA=rad(dafai)\n",
    "    if dafaiA>90:\n",
    "        dafaiA-=180\n",
    "    elif dafaiA<-90:\n",
    "        dafaiA+=180\n",
    "\n",
    "\n",
    "h=np.arccos(np.sin(HRA)*cos(fai)/np.sin(A))\n",
    "\n",
    "L=sqrt(x**2+y**2)\n",
    "print \"L=\",L,\";\"\n",
    "#tan(h)*L=tan(pi/2-dafai+fai)*0.4135\n",
    "\n",
    "b=cos(fai)*np.cos(HRA)\n",
    "a=sin(fai)\n",
    "\n",
    "out=np.sin(h)/np.sqrt(a**2+b**2)\n",
    "if out<-1 or out >1:\n",
    "    dafaiB=\"error\"\n",
    "else:\n",
    "    dafaiB=rad(asin(out)-atan(b/a))\n",
    "#         if dafaiB>90 or dafaiB<-90:\n",
    "#             dafaiB=\"error\"\n",
    "    if dafaiB>90:\n",
    "        dafaiB-=180\n",
    "    elif dafaiB<-90:\n",
    "        dafaiB+=180\n",
    "\n"
   ]
  },
  {
   "cell_type": "markdown",
   "metadata": {},
   "source": [
    "# SE"
   ]
  },
  {
   "cell_type": "code",
   "execution_count": 621,
   "metadata": {
    "collapsed": true
   },
   "outputs": [
    {
     "name": "stdout",
     "output_type": "stream",
     "text": [
      "beijingTime= 14.9 ;\n",
      "x= 1.1732 ;\n",
      "y= 0.5198 ;\n",
      "fai= 0.177126268838 ;\n",
      "HRA 0.585837430439\n",
      "A= 4.29531989637 ;\n",
      "L= 1.28319533977 ;\n"
     ]
    }
   ],
   "source": [
    "longitude=110\n",
    "i=4\n",
    "\n",
    "M=0.5\n",
    "d=107\n",
    "beijingTime=Time[i]\n",
    "print \"beijingTime=\",beijingTime,\";\"\n",
    "y=excel.y[i]\n",
    "x=excel.x[i]\n",
    "print \"x=\",x,\";\"\n",
    "print \"y=\",y,\";\"\n",
    "\n",
    "fai=ang(23.45*sin(2*pi/365.0*(284+d)))\n",
    "print \"fai=\",fai,\";\"\n",
    "\n",
    "LT=beijingTime+(longitude-120)*4/60.0\n",
    "B=ang(360.0*(d-81.0)/365.0)\n",
    "EOT=9.87*sin(2*B)-7.53*cos(B)-1.5*sin(B)\n",
    "TC=EOT/60\n",
    "LST=LT+TC\n",
    "HRA=ang(15*(LST-12))\n",
    "print \"HRA\",HRA\n",
    "\n",
    "X=M*sin(HRA)\n",
    "\n",
    "A=3*pi/2.0-atan(y/x)\n",
    "print \"A=\",A,\";\"\n",
    "\n",
    "b=-tan(fai)\n",
    "a=cos(HRA)\n",
    "\n",
    "out=sin(HRA)*tan(A)/sqrt(a**2+b**2)\n",
    "if out<-1 or out >1:\n",
    "    dafaiA=\"error\"\n",
    "else:\n",
    "    dafai=asin(out)-atan(b/a)\n",
    "    dafaiA=rad(dafai)\n",
    "    if dafaiA>90:\n",
    "        dafaiA-=180\n",
    "    elif dafaiA<-90:\n",
    "        dafaiA+=180\n",
    "\n",
    "\n",
    "h=np.arccos(np.sin(HRA)*cos(fai)/np.sin(A))\n",
    "\n",
    "L=sqrt(x**2+y**2)\n",
    "print \"L=\",L,\";\"\n",
    "#tan(h)*L=tan(pi/2-dafai+fai)*0.4135\n",
    "\n",
    "b=cos(fai)*np.cos(HRA)\n",
    "a=sin(fai)\n",
    "\n",
    "out=np.sin(h)/np.sqrt(a**2+b**2)\n",
    "if out<-1 or out >1:\n",
    "    dafaiB=\"error\"\n",
    "else:\n",
    "    dafaiB=rad(asin(out)-atan(b/a))\n",
    "#         if dafaiB>90 or dafaiB<-90:\n",
    "#             dafaiB=\"error\"\n",
    "    if dafaiB>90:\n",
    "        dafaiB-=180\n",
    "    elif dafaiB<-90:\n",
    "        dafaiB+=180\n",
    "\n"
   ]
  },
  {
   "cell_type": "markdown",
   "metadata": {},
   "source": [
    "# real TWO"
   ]
  },
  {
   "cell_type": "code",
   "execution_count": 78,
   "metadata": {
    "collapsed": false
   },
   "outputs": [],
   "source": [
    "To=Time[0]\n",
    "for i in range(0,21,1):\n",
    "\n",
    "    x=excel.x[i]\n",
    "    y=excel.y[i]\n",
    "    L=x**2+y**2\n",
    "    dAOB=ang((Time[i]-To)*15)\n",
    "    fakeJing=ang(np.arange(-180,180))\n",
    "    AOB=fakeJing+dAOB\n",
    "    \n",
    "    A=np.arctan(x/y)\n",
    "    def f(x):\n",
    "        return np.cos(x)/np.cos(np.arcsin(np.sqrt(1-(np.cos(x)**2+np.sin(AOB)**2))))-np.cos(A)\n",
    "    BOC=optimize.fsolve(f,pi/4)\n",
    "    \n",
    "    AOC=np.arccos(np.cos(BOC)/np.cos(AOB))\n",
    "    AOC=pi/2-AOC\n",
    "    AOC[rad(AOC)>90]-=pi\n",
    "    \n",
    "    \n",
    "    plt.plot(rad(AOC),rad(fakeJing))\n",
    "    #dafai-fai , HRA*15\n",
    "plt.show()"
   ]
  },
  {
   "cell_type": "code",
   "execution_count": 723,
   "metadata": {
    "collapsed": true
   },
   "outputs": [],
   "source": [
    "def xiang2jue(xWei,HRA,d=107):\n",
    "    To=Time[0]\n",
    "    B=ang(360.0*(d-81.0)/365.0)\n",
    "    EOT=9.87*sin(2*B)-7.53*cos(B)-1.5*sin(B)\n",
    "    TC=EOT/60\n",
    "    LST=rad(ang(HRA/15.0))/15.0+12\n",
    "    LT=LST-TC\n",
    "\n",
    "    return xWei+23.45*sin(2*pi/365.0*(284+d)),(LT-To)*60.0/4.0+120"
   ]
  },
  {
   "cell_type": "code",
   "execution_count": 725,
   "metadata": {
    "collapsed": false
   },
   "outputs": [
    {
     "data": {
      "text/plain": [
       "(55.14858764530759, 78.93398775506755)"
      ]
     },
     "execution_count": 725,
     "metadata": {},
     "output_type": "execute_result"
    }
   ],
   "source": [
    "xiang2jue(45,-7.5)"
   ]
  },
  {
   "cell_type": "markdown",
   "metadata": {},
   "source": [
    "### yanzheng"
   ]
  },
  {
   "cell_type": "code",
   "execution_count": 24,
   "metadata": {
    "collapsed": false
   },
   "outputs": [
    {
     "data": {
      "text/plain": [
       "0.9625244322352842"
      ]
     },
     "execution_count": 24,
     "metadata": {},
     "output_type": "execute_result"
    }
   ],
   "source": [
    "ang(55.14858764530759)"
   ]
  },
  {
   "cell_type": "code",
   "execution_count": 19,
   "metadata": {
    "collapsed": false
   },
   "outputs": [
    {
     "data": {
      "text/plain": [
       "0.17712626883783594"
      ]
     },
     "execution_count": 19,
     "metadata": {},
     "output_type": "execute_result"
    }
   ],
   "source": [
    "ang(23.45*sin(2*pi/365.0*(284+107)))"
   ]
  },
  {
   "cell_type": "code",
   "execution_count": 25,
   "metadata": {
    "collapsed": false
   },
   "outputs": [
    {
     "data": {
      "text/plain": [
       "0.98652571931906896"
      ]
     },
     "execution_count": 25,
     "metadata": {},
     "output_type": "execute_result"
    }
   ],
   "source": [
    "np.tan(np.arcsin(np.sin(0.17712626883783594)*np.sin(0.9625244322352842)+np.cos(0.17712626883783594)*np.cos(0.9625244322352842)*np.cos(-0.1308996938995747)))"
   ]
  },
  {
   "cell_type": "markdown",
   "metadata": {},
   "source": [
    "# real THREE"
   ]
  },
  {
   "cell_type": "code",
   "execution_count": 82,
   "metadata": {
    "collapsed": true
   },
   "outputs": [
    {
     "name": "stdout",
     "output_type": "stream",
     "text": [
      "d [ nan  nan  nan ...,  nan  nan  nan]\n",
      "d [ nan  nan  nan ...,  nan  nan  nan]\n",
      "d [ nan  nan  nan ...,  nan  nan  nan]\n",
      "d [ nan  nan  nan ...,  nan  nan  nan]\n",
      "d [ nan  nan  nan ...,  nan  nan  nan]\n",
      "d [ nan  nan  nan ...,  nan  nan  nan]\n",
      "d [ nan  nan  nan ...,  nan  nan  nan]\n",
      "d [ nan  nan  nan ...,  nan  nan  nan]\n",
      "d [ nan  nan  nan ...,  nan  nan  nan]\n",
      "d [ nan  nan  nan ...,  nan  nan  nan]\n",
      "d [ nan  nan  nan ...,  nan  nan  nan]\n",
      "d [ nan  nan  nan ...,  nan  nan  nan]\n",
      "d [ nan  nan  nan ...,  nan  nan  nan]\n",
      "d [ nan  nan  nan ...,  nan  nan  nan]\n",
      "d [ nan  nan  nan ...,  nan  nan  nan]\n",
      "d [ nan  nan  nan ...,  nan  nan  nan]\n",
      "d [ nan  nan  nan ...,  nan  nan  nan]\n",
      "d [ nan  nan  nan ...,  nan  nan  nan]\n",
      "d [ nan  nan  nan ...,  nan  nan  nan]\n",
      "d [ nan  nan  nan ...,  nan  nan  nan]\n",
      "d [ nan  nan  nan ...,  nan  nan  nan]\n"
     ]
    },
    {
     "name": "stderr",
     "output_type": "stream",
     "text": [
      "C:\\Program Files\\Anaconda\\lib\\site-packages\\IPython\\kernel\\__main__.py:28: FutureWarning: in the future, boolean array-likes will be handled as a boolean array index\n"
     ]
    }
   ],
   "source": [
    "To=Time[0]\n",
    "dayAns=[]\n",
    "for i in range(0,21,1):\n",
    "    \n",
    "    #longitude=ang(np.arange(-180,180))\n",
    "    #dafai=ang(np.arange(20,70,5))\n",
    "    \n",
    "    x=excel.x[i]\n",
    "    y=excel.y[i]\n",
    "    L=x**2+y**2\n",
    "    dAOB=ang((Time[i]-To)*15)\n",
    "    fakeJing=ang(np.arange(-180,180,0.1))\n",
    "    AOB=fakeJing+dAOB\n",
    "\n",
    "    \n",
    "    A=np.arctan(x/y)\n",
    "    def f(x):\n",
    "        return np.cos(x)/np.cos(np.arcsin(np.sqrt(1-(np.cos(x)**2+np.sin(AOB)**2))))-np.cos(A)\n",
    "    BOC=optimize.fsolve(f,3*pi/4)\n",
    "    \n",
    "    cose=np.cos(BOC)/np.cos(A)\n",
    "    \n",
    "    fai=np.arccos(cose*np.sin(-A)/np.sin(rad(fakeJing)))\n",
    "                  \n",
    "    #fai=ang(23.45*sin(2*pi/365.0*(284+d)))\n",
    "    \n",
    "    d=np.arcsin(rad(fai)/23.45)/2/pi*365-284\n",
    "    dayAns.append(d[pd.Series(d).notnull()])\n",
    "    H=L*np.tan(e)\n",
    "    \n",
    "    AOC=np.arccos(np.cos(BOC)/np.cos(AOB))\n",
    "    AOC=pi/2-AOC\n",
    "    AOC[rad(AOC)>90]-=pi\n",
    "    #print cose\n",
    "    print \"d\",d\n",
    "\n",
    "#plt.show()"
   ]
  },
  {
   "cell_type": "code",
   "execution_count": 83,
   "metadata": {
    "collapsed": false
   },
   "outputs": [
    {
     "data": {
      "text/plain": [
       "[array([ nan,  nan,  nan, ...,  nan,  nan,  nan]),\n",
       " array([ nan,  nan,  nan, ...,  nan,  nan,  nan]),\n",
       " array([ nan,  nan,  nan, ...,  nan,  nan,  nan]),\n",
       " array([ nan,  nan,  nan, ...,  nan,  nan,  nan]),\n",
       " array([ nan,  nan,  nan, ...,  nan,  nan,  nan]),\n",
       " array([ nan,  nan,  nan, ...,  nan,  nan,  nan]),\n",
       " array([ nan,  nan,  nan, ...,  nan,  nan,  nan]),\n",
       " array([ nan,  nan,  nan, ...,  nan,  nan,  nan]),\n",
       " array([ nan,  nan,  nan, ...,  nan,  nan,  nan]),\n",
       " array([ nan,  nan,  nan, ...,  nan,  nan,  nan]),\n",
       " array([ nan,  nan,  nan, ...,  nan,  nan,  nan]),\n",
       " array([ nan,  nan,  nan, ...,  nan,  nan,  nan]),\n",
       " array([ nan,  nan,  nan, ...,  nan,  nan,  nan]),\n",
       " array([ nan,  nan,  nan, ...,  nan,  nan,  nan]),\n",
       " array([ nan,  nan,  nan, ...,  nan,  nan,  nan]),\n",
       " array([ nan,  nan,  nan, ...,  nan,  nan,  nan]),\n",
       " array([ nan,  nan,  nan, ...,  nan,  nan,  nan]),\n",
       " array([ nan,  nan,  nan, ...,  nan,  nan,  nan]),\n",
       " array([ nan,  nan,  nan, ...,  nan,  nan,  nan]),\n",
       " array([ nan,  nan,  nan, ...,  nan,  nan,  nan]),\n",
       " array([ nan,  nan,  nan, ...,  nan,  nan,  nan])]"
      ]
     },
     "execution_count": 83,
     "metadata": {},
     "output_type": "execute_result"
    }
   ],
   "source": [
    "dayAns"
   ]
  },
  {
   "cell_type": "code",
   "execution_count": 86,
   "metadata": {
    "collapsed": false
   },
   "outputs": [
    {
     "name": "stderr",
     "output_type": "stream",
     "text": [
      "C:\\Program Files\\Anaconda\\lib\\site-packages\\IPython\\kernel\\__main__.py:1: FutureWarning: in the future, boolean array-likes will be handled as a boolean array index\n",
      "  if __name__ == '__main__':\n"
     ]
    },
    {
     "data": {
      "text/plain": [
       "array([ nan,  nan,  nan, ...,  nan,  nan,  nan])"
      ]
     },
     "execution_count": 86,
     "metadata": {},
     "output_type": "execute_result"
    }
   ],
   "source": [
    "d[pd.Series(d).notnull()]\n",
    "#d2[d2.notnull()]"
   ]
  },
  {
   "cell_type": "code",
   "execution_count": 58,
   "metadata": {
    "collapsed": false
   },
   "outputs": [
    {
     "data": {
      "text/plain": [
       "154"
      ]
     },
     "execution_count": 58,
     "metadata": {},
     "output_type": "execute_result"
    }
   ],
   "source": [
    "334-180"
   ]
  },
  {
   "cell_type": "code",
   "execution_count": 59,
   "metadata": {
    "collapsed": false
   },
   "outputs": [
    {
     "data": {
      "text/plain": [
       "27"
      ]
     },
     "execution_count": 59,
     "metadata": {},
     "output_type": "execute_result"
    }
   ],
   "source": [
    "207-180"
   ]
  },
  {
   "cell_type": "code",
   "execution_count": 40,
   "metadata": {
    "collapsed": false
   },
   "outputs": [
    {
     "data": {
      "text/plain": [
       "0.7071067811865328"
      ]
     },
     "execution_count": 40,
     "metadata": {},
     "output_type": "execute_result"
    }
   ],
   "source": [
    "cos(BOC)"
   ]
  },
  {
   "cell_type": "code",
   "execution_count": 33,
   "metadata": {
    "collapsed": false
   },
   "outputs": [
    {
     "data": {
      "text/plain": [
       "0.3182188545438451"
      ]
     },
     "execution_count": 33,
     "metadata": {},
     "output_type": "execute_result"
    }
   ],
   "source": [
    "cos(A)"
   ]
  },
  {
   "cell_type": "code",
   "execution_count": 587,
   "metadata": {
    "collapsed": true
   },
   "outputs": [
    {
     "data": {
      "text/html": [
       "<div style=\"max-height:1000px;max-width:1500px;overflow:auto;\">\n",
       "<table border=\"1\" class=\"dataframe\">\n",
       "  <thead>\n",
       "    <tr style=\"text-align: right;\">\n",
       "      <th></th>\n",
       "      <th>time</th>\n",
       "      <th>x</th>\n",
       "      <th>y</th>\n",
       "    </tr>\n",
       "  </thead>\n",
       "  <tbody>\n",
       "    <tr>\n",
       "      <th>0</th>\n",
       "      <td>12:41:00</td>\n",
       "      <td>-1.2352</td>\n",
       "      <td>0.1730</td>\n",
       "    </tr>\n",
       "    <tr>\n",
       "      <th>1</th>\n",
       "      <td>12:44:00</td>\n",
       "      <td>-1.2081</td>\n",
       "      <td>0.1890</td>\n",
       "    </tr>\n",
       "    <tr>\n",
       "      <th>2</th>\n",
       "      <td>12:47:00</td>\n",
       "      <td>-1.1813</td>\n",
       "      <td>0.2048</td>\n",
       "    </tr>\n",
       "    <tr>\n",
       "      <th>3</th>\n",
       "      <td>12:50:00</td>\n",
       "      <td>-1.1546</td>\n",
       "      <td>0.2203</td>\n",
       "    </tr>\n",
       "    <tr>\n",
       "      <th>4</th>\n",
       "      <td>12:53:00</td>\n",
       "      <td>-1.1281</td>\n",
       "      <td>0.2356</td>\n",
       "    </tr>\n",
       "    <tr>\n",
       "      <th>5</th>\n",
       "      <td>12:56:00</td>\n",
       "      <td>-1.1018</td>\n",
       "      <td>0.2505</td>\n",
       "    </tr>\n",
       "    <tr>\n",
       "      <th>6</th>\n",
       "      <td>12:59:00</td>\n",
       "      <td>-1.0756</td>\n",
       "      <td>0.2653</td>\n",
       "    </tr>\n",
       "    <tr>\n",
       "      <th>7</th>\n",
       "      <td>13:02:00</td>\n",
       "      <td>-1.0496</td>\n",
       "      <td>0.2798</td>\n",
       "    </tr>\n",
       "    <tr>\n",
       "      <th>8</th>\n",
       "      <td>13:05:00</td>\n",
       "      <td>-1.0237</td>\n",
       "      <td>0.2940</td>\n",
       "    </tr>\n",
       "    <tr>\n",
       "      <th>9</th>\n",
       "      <td>13:08:00</td>\n",
       "      <td>-0.9980</td>\n",
       "      <td>0.3080</td>\n",
       "    </tr>\n",
       "    <tr>\n",
       "      <th>10</th>\n",
       "      <td>13:11:00</td>\n",
       "      <td>-0.9724</td>\n",
       "      <td>0.3218</td>\n",
       "    </tr>\n",
       "    <tr>\n",
       "      <th>11</th>\n",
       "      <td>13:14:00</td>\n",
       "      <td>-0.9470</td>\n",
       "      <td>0.3354</td>\n",
       "    </tr>\n",
       "    <tr>\n",
       "      <th>12</th>\n",
       "      <td>13:17:00</td>\n",
       "      <td>-0.9217</td>\n",
       "      <td>0.3488</td>\n",
       "    </tr>\n",
       "    <tr>\n",
       "      <th>13</th>\n",
       "      <td>13:20:00</td>\n",
       "      <td>-0.8965</td>\n",
       "      <td>0.3619</td>\n",
       "    </tr>\n",
       "    <tr>\n",
       "      <th>14</th>\n",
       "      <td>13:23:00</td>\n",
       "      <td>-0.8714</td>\n",
       "      <td>0.3748</td>\n",
       "    </tr>\n",
       "    <tr>\n",
       "      <th>15</th>\n",
       "      <td>13:26:00</td>\n",
       "      <td>-0.8464</td>\n",
       "      <td>0.3876</td>\n",
       "    </tr>\n",
       "    <tr>\n",
       "      <th>16</th>\n",
       "      <td>13:29:00</td>\n",
       "      <td>-0.8215</td>\n",
       "      <td>0.4001</td>\n",
       "    </tr>\n",
       "    <tr>\n",
       "      <th>17</th>\n",
       "      <td>13:32:00</td>\n",
       "      <td>-0.7967</td>\n",
       "      <td>0.4124</td>\n",
       "    </tr>\n",
       "    <tr>\n",
       "      <th>18</th>\n",
       "      <td>13:35:00</td>\n",
       "      <td>-0.7719</td>\n",
       "      <td>0.4246</td>\n",
       "    </tr>\n",
       "    <tr>\n",
       "      <th>19</th>\n",
       "      <td>13:38:00</td>\n",
       "      <td>-0.7473</td>\n",
       "      <td>0.4366</td>\n",
       "    </tr>\n",
       "    <tr>\n",
       "      <th>20</th>\n",
       "      <td>13:41:00</td>\n",
       "      <td>-0.7227</td>\n",
       "      <td>0.4484</td>\n",
       "    </tr>\n",
       "  </tbody>\n",
       "</table>\n",
       "</div>"
      ],
      "text/plain": [
       "        time       x       y\n",
       "0   12:41:00 -1.2352  0.1730\n",
       "1   12:44:00 -1.2081  0.1890\n",
       "2   12:47:00 -1.1813  0.2048\n",
       "3   12:50:00 -1.1546  0.2203\n",
       "4   12:53:00 -1.1281  0.2356\n",
       "5   12:56:00 -1.1018  0.2505\n",
       "6   12:59:00 -1.0756  0.2653\n",
       "7   13:02:00 -1.0496  0.2798\n",
       "8   13:05:00 -1.0237  0.2940\n",
       "9   13:08:00 -0.9980  0.3080\n",
       "10  13:11:00 -0.9724  0.3218\n",
       "11  13:14:00 -0.9470  0.3354\n",
       "12  13:17:00 -0.9217  0.3488\n",
       "13  13:20:00 -0.8965  0.3619\n",
       "14  13:23:00 -0.8714  0.3748\n",
       "15  13:26:00 -0.8464  0.3876\n",
       "16  13:29:00 -0.8215  0.4001\n",
       "17  13:32:00 -0.7967  0.4124\n",
       "18  13:35:00 -0.7719  0.4246\n",
       "19  13:38:00 -0.7473  0.4366\n",
       "20  13:41:00 -0.7227  0.4484"
      ]
     },
     "execution_count": 587,
     "metadata": {},
     "output_type": "execute_result"
    }
   ],
   "source": [
    "xls=pd.ExcelFile(\"data.xlsx\")\n",
    "s2=xls.parse('Sheet2')\n",
    "s2"
   ]
  },
  {
   "cell_type": "code",
   "execution_count": 588,
   "metadata": {
    "collapsed": true
   },
   "outputs": [
    {
     "data": {
      "text/html": [
       "<div style=\"max-height:1000px;max-width:1500px;overflow:auto;\">\n",
       "<table border=\"1\" class=\"dataframe\">\n",
       "  <thead>\n",
       "    <tr style=\"text-align: right;\">\n",
       "      <th></th>\n",
       "      <th>time</th>\n",
       "      <th>x</th>\n",
       "      <th>y</th>\n",
       "    </tr>\n",
       "  </thead>\n",
       "  <tbody>\n",
       "    <tr>\n",
       "      <th>0</th>\n",
       "      <td>13:09:00</td>\n",
       "      <td>1.1637</td>\n",
       "      <td>3.3360</td>\n",
       "    </tr>\n",
       "    <tr>\n",
       "      <th>1</th>\n",
       "      <td>13:12:00</td>\n",
       "      <td>1.2212</td>\n",
       "      <td>3.3299</td>\n",
       "    </tr>\n",
       "    <tr>\n",
       "      <th>2</th>\n",
       "      <td>13:15:00</td>\n",
       "      <td>1.2791</td>\n",
       "      <td>3.3242</td>\n",
       "    </tr>\n",
       "    <tr>\n",
       "      <th>3</th>\n",
       "      <td>13:18:00</td>\n",
       "      <td>1.3373</td>\n",
       "      <td>3.3188</td>\n",
       "    </tr>\n",
       "    <tr>\n",
       "      <th>4</th>\n",
       "      <td>13:21:00</td>\n",
       "      <td>1.3960</td>\n",
       "      <td>3.3137</td>\n",
       "    </tr>\n",
       "    <tr>\n",
       "      <th>5</th>\n",
       "      <td>13:24:00</td>\n",
       "      <td>1.4552</td>\n",
       "      <td>3.3091</td>\n",
       "    </tr>\n",
       "    <tr>\n",
       "      <th>6</th>\n",
       "      <td>13:27:00</td>\n",
       "      <td>1.5148</td>\n",
       "      <td>3.3048</td>\n",
       "    </tr>\n",
       "    <tr>\n",
       "      <th>7</th>\n",
       "      <td>13:30:00</td>\n",
       "      <td>1.5750</td>\n",
       "      <td>3.3007</td>\n",
       "    </tr>\n",
       "    <tr>\n",
       "      <th>8</th>\n",
       "      <td>13:33:00</td>\n",
       "      <td>1.6357</td>\n",
       "      <td>3.2971</td>\n",
       "    </tr>\n",
       "    <tr>\n",
       "      <th>9</th>\n",
       "      <td>13:36:00</td>\n",
       "      <td>1.6970</td>\n",
       "      <td>3.2937</td>\n",
       "    </tr>\n",
       "    <tr>\n",
       "      <th>10</th>\n",
       "      <td>13:39:00</td>\n",
       "      <td>1.7589</td>\n",
       "      <td>3.2907</td>\n",
       "    </tr>\n",
       "    <tr>\n",
       "      <th>11</th>\n",
       "      <td>13:42:00</td>\n",
       "      <td>1.8215</td>\n",
       "      <td>3.2881</td>\n",
       "    </tr>\n",
       "    <tr>\n",
       "      <th>12</th>\n",
       "      <td>13:45:00</td>\n",
       "      <td>1.8848</td>\n",
       "      <td>3.2859</td>\n",
       "    </tr>\n",
       "    <tr>\n",
       "      <th>13</th>\n",
       "      <td>13:48:00</td>\n",
       "      <td>1.9488</td>\n",
       "      <td>3.2840</td>\n",
       "    </tr>\n",
       "    <tr>\n",
       "      <th>14</th>\n",
       "      <td>13:51:00</td>\n",
       "      <td>2.0136</td>\n",
       "      <td>3.2824</td>\n",
       "    </tr>\n",
       "    <tr>\n",
       "      <th>15</th>\n",
       "      <td>13:54:00</td>\n",
       "      <td>2.0792</td>\n",
       "      <td>3.2813</td>\n",
       "    </tr>\n",
       "    <tr>\n",
       "      <th>16</th>\n",
       "      <td>13:57:00</td>\n",
       "      <td>2.1457</td>\n",
       "      <td>3.2805</td>\n",
       "    </tr>\n",
       "    <tr>\n",
       "      <th>17</th>\n",
       "      <td>14:00:00</td>\n",
       "      <td>2.2131</td>\n",
       "      <td>3.2801</td>\n",
       "    </tr>\n",
       "    <tr>\n",
       "      <th>18</th>\n",
       "      <td>14:03:00</td>\n",
       "      <td>2.2815</td>\n",
       "      <td>3.2801</td>\n",
       "    </tr>\n",
       "    <tr>\n",
       "      <th>19</th>\n",
       "      <td>14:06:00</td>\n",
       "      <td>2.3508</td>\n",
       "      <td>3.2804</td>\n",
       "    </tr>\n",
       "    <tr>\n",
       "      <th>20</th>\n",
       "      <td>14:09:00</td>\n",
       "      <td>2.4213</td>\n",
       "      <td>3.2812</td>\n",
       "    </tr>\n",
       "  </tbody>\n",
       "</table>\n",
       "</div>"
      ],
      "text/plain": [
       "        time       x       y\n",
       "0   13:09:00  1.1637  3.3360\n",
       "1   13:12:00  1.2212  3.3299\n",
       "2   13:15:00  1.2791  3.3242\n",
       "3   13:18:00  1.3373  3.3188\n",
       "4   13:21:00  1.3960  3.3137\n",
       "5   13:24:00  1.4552  3.3091\n",
       "6   13:27:00  1.5148  3.3048\n",
       "7   13:30:00  1.5750  3.3007\n",
       "8   13:33:00  1.6357  3.2971\n",
       "9   13:36:00  1.6970  3.2937\n",
       "10  13:39:00  1.7589  3.2907\n",
       "11  13:42:00  1.8215  3.2881\n",
       "12  13:45:00  1.8848  3.2859\n",
       "13  13:48:00  1.9488  3.2840\n",
       "14  13:51:00  2.0136  3.2824\n",
       "15  13:54:00  2.0792  3.2813\n",
       "16  13:57:00  2.1457  3.2805\n",
       "17  14:00:00  2.2131  3.2801\n",
       "18  14:03:00  2.2815  3.2801\n",
       "19  14:06:00  2.3508  3.2804\n",
       "20  14:09:00  2.4213  3.2812"
      ]
     },
     "execution_count": 588,
     "metadata": {},
     "output_type": "execute_result"
    }
   ],
   "source": [
    "s3=xls.parse('Sheet3')\n",
    "s3"
   ]
  },
  {
   "cell_type": "code",
   "execution_count": 590,
   "metadata": {
    "collapsed": true
   },
   "outputs": [],
   "source": [
    "plt.scatter(s2.x,s2.y)\n",
    "plt.show()"
   ]
  },
  {
   "cell_type": "code",
   "execution_count": 592,
   "metadata": {
    "collapsed": false
   },
   "outputs": [],
   "source": [
    "plt.scatter(s3.x,s3.y)\n",
    "plt.show()"
   ]
  },
  {
   "cell_type": "code",
   "execution_count": 602,
   "metadata": {
    "collapsed": false
   },
   "outputs": [
    {
     "data": {
      "text/plain": [
       "array([ 1.1637,  1.2212,  1.2791,  1.3373,  1.396 ,  1.4552,  1.5148,\n",
       "        1.575 ,  1.6357,  1.697 ,  1.7589,  1.8215,  1.8848,  1.9488,\n",
       "        2.0136,  2.0792,  2.1457,  2.2131,  2.2815,  2.3508,  2.4213])"
      ]
     },
     "execution_count": 602,
     "metadata": {},
     "output_type": "execute_result"
    }
   ],
   "source": [
    "np.array(s3.x)"
   ]
  },
  {
   "cell_type": "code",
   "execution_count": 633,
   "metadata": {
    "collapsed": false
   },
   "outputs": [],
   "source": [
    "import numpy.linalg as lg"
   ]
  },
  {
   "cell_type": "code",
   "execution_count": 644,
   "metadata": {
    "collapsed": false
   },
   "outputs": [
    {
     "data": {
      "text/plain": [
       "matrix([[-2.073     , -0.9946    , -1.14962583,  1.        ]])"
      ]
     },
     "execution_count": 644,
     "metadata": {},
     "output_type": "execute_result"
    }
   ],
   "source": [
    "shadow*lg.inv(T)"
   ]
  }
 ],
 "metadata": {
  "kernelspec": {
   "display_name": "Python 2",
   "language": "python",
   "name": "python2"
  },
  "language_info": {
   "codemirror_mode": {
    "name": "ipython",
    "version": 2
   },
   "file_extension": ".py",
   "mimetype": "text/x-python",
   "name": "python",
   "nbconvert_exporter": "python",
   "pygments_lexer": "ipython2",
   "version": "2.7.9"
  }
 },
 "nbformat": 4,
 "nbformat_minor": 0
}
